{
  "nbformat": 4,
  "nbformat_minor": 0,
  "metadata": {
    "colab": {
      "name": "Taobien.ipynb",
      "provenance": [],
      "toc_visible": true
    },
    "kernelspec": {
      "name": "python3",
      "display_name": "Python 3"
    },
    "language_info": {
      "name": "python"
    }
  },
  "cells": [
    {
      "cell_type": "markdown",
      "metadata": {
        "id": "dFUF5f_KYuCw"
      },
      "source": [
        "# NHÓM 11\n",
        "# TẢO BIỂN"
      ]
    },
    {
      "cell_type": "markdown",
      "metadata": {
        "id": "pmonHGGhYzKs"
      },
      "source": [
        "# ĐỀ BÀI"
      ]
    },
    {
      "cell_type": "markdown",
      "metadata": {
        "id": "0gT-HtcUY8uQ"
      },
      "source": [
        "Tảo biển sinh sản rất nhanh khi có môi trường thuận lợi với chúng và có những loài còn tiết ra môi trường những chất độc hại. Một loại tảo nâu trong môi trường nước bị ô nhiễm nặng sinh sản theo quy luật sau:\n",
        "\n",
        "Ngày đầu tiên (ngày 0) có n cá thể ở mức 1\n",
        "Ở mỗi ngày tiếp theo, mỗi cá thể mức i sinh ra i cá thể mức 1, các cá thể mới sinh sẽ sinh sôi, phát triển từ ngày hôm sau.\n",
        "Bản thân các cá thể mức i phát triển thành mức i+1 và chu kỳ phát triển trong ngày chấm dứt.\n",
        "Hãy xác định sau k ngày trong nước biển có bao nhiêu cá thể.\n",
        "\n",
        "Dữ liệu: Vào từ thiết bị nhập chuẩn gồm một dòng chứa 2 số nguyên n và k $(1 ≤ n ≤ 1000, 1 ≤ k ≤ 10^{18})$\n",
        "\n",
        "Kết quả: Đưa ra thiết bị xuất chuẩn một số nguyên – số lượng cá thể tảo theo mô đun $10^9+7$."
      ]
    },
    {
      "cell_type": "markdown",
      "metadata": {
        "id": "_m6SLcv9ZFZ3"
      },
      "source": [
        "# 1. ABTRACTION"
      ]
    },
    {
      "cell_type": "markdown",
      "metadata": {
        "id": "1eNbzv_vZUM4"
      },
      "source": [
        "Cho $n, k$. Tính $F(2*k+1)*n$ (với $F(n)$ là số thứ $n$ trong dãy Fibonacci)"
      ]
    },
    {
      "cell_type": "markdown",
      "metadata": {
        "id": "iZ06q4MAZeCt"
      },
      "source": [
        "# 2. PATTERN RECOGNITION"
      ]
    },
    {
      "cell_type": "markdown",
      "metadata": {
        "id": "i6OMomC7ZzRQ"
      },
      "source": [
        "Tính số thứ n trong dãy Fibonacci"
      ]
    },
    {
      "cell_type": "markdown",
      "metadata": {
        "id": "QL3j5-ucZ89N"
      },
      "source": [
        "# 3. ALGORITHM DESIGNED"
      ]
    },
    {
      "cell_type": "markdown",
      "metadata": {
        "id": "lkm6XtvraGV4"
      },
      "source": [
        "\n",
        "\n",
        "1.   Giải Fibonacci bằng phương pháp thông thường\n",
        "\n",
        "  Function Fibonacci(n):\n",
        "\n",
        "    DECLARE f0 := 0\n",
        "\n",
        "    DECLARE f1 := 1\n",
        "\n",
        "    DECLARE fn := 1\n",
        "\n",
        "    IF (n < 0) THEN return -1\n",
        "\n",
        "    ELSE IF  (n == 0 or n == 1) THEN return n\n",
        "\n",
        "    ELSE THEN\n",
        "\n",
        "      for i=2 to i=n :\n",
        "\n",
        "          DECLARE f0 := f1 \n",
        "\n",
        "          DECLARE f1 := fn \n",
        "\n",
        "          DECLARE fn := f0 + f1\n",
        "\n",
        "      return fn\n",
        "\n",
        "2.   Giải Fibonacci bằng đệ quy\n",
        "  \n",
        "    Function Fibonacci(n):\n",
        "\n",
        "    IF n < 0 THEN return -1\n",
        "\n",
        "    ELSE IF n = 1 or n=0 THEN return 1\n",
        "\n",
        "    ELSE RETURN Fibonacci(n-1) + Fibinacci(n-2)\n",
        "\n"
      ]
    },
    {
      "cell_type": "markdown",
      "metadata": {
        "id": "X5evpXD0lgdU"
      },
      "source": [
        "# 4. ĐÁNH GIÁ ĐỘ PHỨC TẠP"
      ]
    },
    {
      "cell_type": "markdown",
      "metadata": {
        "id": "4TqU4P17lo90"
      },
      "source": [
        "Đệ quy: $O(2^n)$\n",
        "\n",
        "Không đệ quy: $O(n)$"
      ]
    },
    {
      "cell_type": "markdown",
      "metadata": {
        "id": "rvqJVcoWl714"
      },
      "source": [
        "# 5. CHƯƠNG TRÌNH CÀI ĐẶT"
      ]
    },
    {
      "cell_type": "markdown",
      "metadata": {
        "id": "amIePo3zmBxY"
      },
      "source": [
        "*   Không đệ quy"
      ]
    },
    {
      "cell_type": "code",
      "metadata": {
        "colab": {
          "base_uri": "https://localhost:8080/"
        },
        "id": "D819ko8SmLxE",
        "outputId": "fbc6970e-508b-4bb5-cf59-8feb1bb511ca"
      },
      "source": [
        "def F(n):\n",
        "    f0 = 0;\n",
        "    f1 = 1;\n",
        "    fn = 1;\n",
        " \n",
        "    if (n < 0):\n",
        "        return -1;\n",
        "    elif (n == 0 or n == 1):\n",
        "        return n;\n",
        "    else:\n",
        "        for i in range(2, n):\n",
        "            f0 = f1 ;\n",
        "            f1 = fn ;\n",
        "            fn = f0 + f1;\n",
        "        return fn;\n",
        "n,k = map(int,input().split());\n",
        "k=2*k+1;\n",
        "F=F(k);\n",
        "F=n*F;\n",
        "print(F%(10**9 +7));"
      ],
      "execution_count": null,
      "outputs": [
        {
          "output_type": "stream",
          "text": [
            "5 2\n",
            "25\n"
          ],
          "name": "stdout"
        }
      ]
    },
    {
      "cell_type": "markdown",
      "metadata": {
        "id": "lSnR9YA_mv7R"
      },
      "source": [
        "\n",
        "\n",
        "*   Đệ quy\n",
        "\n",
        "\n"
      ]
    },
    {
      "cell_type": "code",
      "metadata": {
        "colab": {
          "base_uri": "https://localhost:8080/"
        },
        "id": "uSWz2Akmm0nZ",
        "outputId": "e047e9c5-f36a-4463-82e0-8fb58380c6d1"
      },
      "source": [
        "def fibonacci(n):\n",
        "    if (n < 0):\n",
        "        return -1;\n",
        "    elif (n == 0 or n == 1):\n",
        "        return n;\n",
        "    else:\n",
        "        return fibonacci(n - 1) + fibonacci(n - 2);\n",
        "n,k = map(int,input().split());\n",
        "k=2*k+1;\n",
        "F=fibonacci(k);\n",
        "F=n*F;\n",
        "print(F%(10**9 +7));"
      ],
      "execution_count": null,
      "outputs": [
        {
          "output_type": "stream",
          "text": [
            "5 2\n",
            "25\n"
          ],
          "name": "stdout"
        }
      ]
    }
  ]
}