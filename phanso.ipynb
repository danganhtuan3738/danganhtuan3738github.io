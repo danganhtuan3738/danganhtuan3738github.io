{
  "nbformat": 4,
  "nbformat_minor": 0,
  "metadata": {
    "colab": {
      "name": "phanso.ipynb",
      "provenance": [],
      "authorship_tag": "ABX9TyOcS+0p5QqgxPTa5h49rQr7",
      "include_colab_link": true
    },
    "kernelspec": {
      "name": "python3",
      "display_name": "Python 3"
    },
    "language_info": {
      "name": "python"
    }
  },
  "cells": [
    {
      "cell_type": "markdown",
      "metadata": {
        "id": "view-in-github",
        "colab_type": "text"
      },
      "source": [
        "<a href=\"https://colab.research.google.com/github/danganhtuan3738/danganhtuan3738github.io/blob/main/phanso.ipynb\" target=\"_parent\"><img src=\"https://colab.research.google.com/assets/colab-badge.svg\" alt=\"Open In Colab\"/></a>"
      ]
    },
    {
      "cell_type": "code",
      "metadata": {
        "colab": {
          "base_uri": "https://localhost:8080/"
        },
        "id": "n4tuByBOeBM5",
        "outputId": "d5fac37d-2118-465e-96b8-364ed00f115c"
      },
      "source": [
        "def gcd( a, b) :\n",
        "    if (b == 0):\n",
        "       return a\n",
        "    return gcd(b, a % b)\n",
        "    \n",
        "def func(a,b,c,d):\n",
        "    temp=0;\n",
        "    while (1):\n",
        "      a+=1\n",
        "      b+=1\n",
        "      x=gcd(a,b)\n",
        "      a=a/x\n",
        "      b=b/x\n",
        "      temp+=1\n",
        "      if (a==c and b==d) :\n",
        "        return temp\n",
        "      if(float(a/b)>float(c/d)) :\n",
        "        return 0\n",
        "\n",
        "a=int(input())\n",
        "b=int(input())\n",
        "c=int(input())\n",
        "d=int(input())\n",
        "print(func(a,b,c,d))"
      ],
      "execution_count": null,
      "outputs": [
        {
          "output_type": "stream",
          "text": [
            "1\n",
            "6\n",
            "2\n",
            "3\n",
            "5\n"
          ],
          "name": "stdout"
        }
      ]
    }
  ]
}