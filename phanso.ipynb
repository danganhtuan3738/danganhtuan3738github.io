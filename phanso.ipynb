{
  "nbformat": 4,
  "nbformat_minor": 0,
  "metadata": {
    "colab": {
      "name": "phanso.ipynb",
      "provenance": [],
      "toc_visible": true,
      "mount_file_id": "1BULeMqfnDc_HPR2ExTSFs8TWGA8Zb-Sr",
      "authorship_tag": "ABX9TyMnYj0PvVG7aF/GTG5hL7TV",
      "include_colab_link": true
    },
    "kernelspec": {
      "name": "python3",
      "display_name": "Python 3"
    },
    "language_info": {
      "name": "python"
    }
  },
  "cells": [
    {
      "cell_type": "markdown",
      "metadata": {
        "id": "view-in-github",
        "colab_type": "text"
      },
      "source": [
        "<a href=\"https://colab.research.google.com/github/danganhtuan3738/danganhtuan3738github.io/blob/main/phanso.ipynb\" target=\"_parent\"><img src=\"https://colab.research.google.com/assets/colab-badge.svg\" alt=\"Open In Colab\"/></a>"
      ]
    },
    {
      "cell_type": "markdown",
      "metadata": {
        "id": "d-iXexQg-Mxq"
      },
      "source": [
        "# Phân Số"
      ]
    },
    {
      "cell_type": "markdown",
      "metadata": {
        "id": "6eITHpIR-VfP"
      },
      "source": [
        "Đề bài:\n",
        "\n",
        "Cho 2 phân số đúng và tối giản $\\frac{a}{b}$ , $\\frac{c}{d}$ . Mỗi phép biến đổi là tăng a và b lên 1, sau đó giản ước phân số nhận được.\n",
        "\n",
        "Hãy xác định sau bao nhiêu bước biến đổi từ phân số thứ nhất ban đầu nhận được phân số thứ 2 đã cho.\n",
        "\n",
        "Dữ liệu: Vào từ thiết bị nhập chuẩn gồm 4 dòng, mỗi dòng chứa 1 số nguyên a, b, \n",
        "c, d, 0 < a < b ≤$10^5$, 0 < c < d ≤ $10^5$, a và b nguyên tố cùng nhau, c và d \n",
        "nguyên tố cùng nhau $\\frac{a}{b}$ ≠ $\\frac{c}{d}$. \n",
        "\n",
        "Kết quả: Đưa ra thiết bị xuất chuẩn số 0 nếu không có cách biến đổi hoặc một số nguyên – số lượng phép biến đổi."
      ]
    },
    {
      "cell_type": "markdown",
      "metadata": {
        "id": "kYxpKHiOCzpg"
      },
      "source": [
        "# 1. Abstraction"
      ]
    },
    {
      "cell_type": "markdown",
      "metadata": {
        "id": "CuA9acQ_Dj4Z"
      },
      "source": [
        "Cho 4 số a,b,c,d tính số vòng lặp để ad=bc biết mỗi vòng lặp a = $\\frac{a+1}{gcd(a+1,b+1)}$,  b = $\\frac{b+1}{gcd(b+1,a+1)}$"
      ]
    },
    {
      "cell_type": "markdown",
      "metadata": {
        "id": "IOu4z1V2EORC"
      },
      "source": [
        "# 2. Pattern Recognition"
      ]
    },
    {
      "cell_type": "markdown",
      "metadata": {
        "id": "fhj-zIWjEU8I"
      },
      "source": [
        "Sử dụng vét cạn tính hết trường hợp."
      ]
    },
    {
      "cell_type": "markdown",
      "metadata": {
        "id": "cV1umkSyEh1d"
      },
      "source": [
        "# 3. Algorithm Design"
      ]
    },
    {
      "cell_type": "markdown",
      "metadata": {
        "id": "1_XNlWwaEq9p"
      },
      "source": [
        "- Định nghĩa hàm gcd(a,b) (ước chung lớn nhất của a và b) theo giải thuật Euclid\n",
        "\n",
        "- Tính a và b sau mỗi vòng lặp so sánh với c và d, với count là biến đếm.\n",
        "\n",
        "- Nếu bằng thì kết thúc chương trình trả về biến count, nếu không tăng a và b lên 1, nếu phân số $\\frac{a}{b}$>$\\frac{c}{d}$ thì thoát và trả về 0.\n",
        "\n",
        "```\n",
        "FUNTION gcd(a, b):\n",
        "  IF b==0 THEN\n",
        "    return a\n",
        "  return gcd(b,b%a)\n",
        "FUNTION fraction(a, b, c, d):  \n",
        "  count=0;\n",
        "  while (1):\n",
        "    a +=1\n",
        "    b +=1\n",
        "    x = gcd(a,b)\n",
        "    a = a/x\n",
        "    b = b/x\n",
        "    count +=1\n",
        "    IF a==c and b==d THEN\n",
        "      return count\n",
        "    IF float(a/b)>float(c/d) THEN\n",
        "        return 0\n",
        "```\n",
        "\n",
        "\n"
      ]
    },
    {
      "cell_type": "markdown",
      "metadata": {
        "id": "hRHNOWiOI6Rc"
      },
      "source": [
        "# 4. Độ phức tạp."
      ]
    },
    {
      "cell_type": "markdown",
      "metadata": {
        "id": "y1Hau0H4I-qx"
      },
      "source": [
        "O($(n-m)log(b)$)   với n=bc, m=ad"
      ]
    },
    {
      "cell_type": "markdown",
      "metadata": {
        "id": "JBGiDWJOJYHq"
      },
      "source": [
        "# 5. Programing"
      ]
    },
    {
      "cell_type": "code",
      "metadata": {
        "colab": {
          "base_uri": "https://localhost:8080/"
        },
        "id": "wPnBpZk4Jd79",
        "outputId": "cd11a8d5-23b4-43c5-bb86-6c75bbc9a9a6"
      },
      "source": [
        "def gcd( a, b) :\n",
        "    if (b == 0):\n",
        "       return a\n",
        "    return gcd(b, a % b)\n",
        "    \n",
        "def fraction(a,b,c,d):\n",
        "    count=0;\n",
        "    while (1):\n",
        "      a+=1\n",
        "      b+=1\n",
        "      x=gcd(a,b)\n",
        "      a=a/x\n",
        "      b=b/x\n",
        "      count+=1\n",
        "      if (a==c and b==d) :\n",
        "        return count\n",
        "      if(float(a/b)>float(c/d)) :\n",
        "        return 0\n",
        "\n",
        "a, b, c, d=map(int,input().split())\n",
        "print(fraction(a,b,c,d))"
      ],
      "execution_count": 3,
      "outputs": [
        {
          "output_type": "stream",
          "text": [
            "1 6 2 3\n",
            "5\n"
          ],
          "name": "stdout"
        }
      ]
    }
  ]
}