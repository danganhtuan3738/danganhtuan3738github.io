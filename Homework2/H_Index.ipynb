{
  "nbformat": 4,
  "nbformat_minor": 0,
  "metadata": {
    "colab": {
      "name": "H_Index",
      "provenance": [],
      "collapsed_sections": [],
      "toc_visible": true
    },
    "kernelspec": {
      "display_name": "Python 3",
      "name": "python3"
    }
  },
  "cells": [
    {
      "cell_type": "markdown",
      "metadata": {
        "id": "yzEPvML1S1Gj"
      },
      "source": [
        "H_INDEX"
      ]
    },
    {
      "cell_type": "markdown",
      "metadata": {
        "id": "icjHixA8S6Vr"
      },
      "source": [
        "ĐỀ BÀI\n",
        "\n",
        "\n",
        "Làm thế nào để đánh giá sự thành công của một nhà khoa học?  Dựa vào số bài báo được công bố hay dựa vào số lần một bài báo được trích dẫn tới ở công trình của những người khác? Cả hai tham số đó đều quan trọng.\n",
        "\n",
        "Một bài báo có điểm số trích dẫn là c nếu nó được trích dẫn tới c lần trong các công trình của những nhà khoa học khác. Một trong số các cách đánh giá sự thành công của một nhà khoa học là tính chỉ số ảnh hưởng H_Index dựa trên sự kết hợp giữa số lượng bài báo và chỉ số trích dẫn của các bài báo đó.\n",
        "\n",
        "Chỉ số H_Indexcủa một nhà khoa học bằng k lớn nhất nếu người đó có k bài báo, mỗi bài có điểm số trích dẫn không nhỏ hơn k. Ví dụ, một người có 10 bài báo, mỗi bài báo được trích dẫn không dưới 10 lần thì H_Index của người đó ít nhất là bằng 10.\n",
        "\n",
        "Một người có n bài báo, bài báo thứ i có điểm trích dẫn là ci, i = 1 ÷ n. Hãy xác định H_Index của người đó.\n",
        "\n",
        "Dữ liệu: Vào từ thiết bị nhập chuẩn:\n",
        "\n",
        "Dòng đầu tiên chứa một số nguyên n (1 ≤ n ≤ 5×$10^5$),\n",
        "Dòng thứ 2 chứa n số nguyên c1, c2, . . ., cn (0 ≤ ci ≤ $10^6$, i = 1 ÷ n).\n",
        "Kết quả: Đưa ra thiết bị xuất chuẩn một số nguyên – H_Index tìm được."
      ]
    },
    {
      "cell_type": "markdown",
      "metadata": {
        "id": "OJy-J3A_Vew5"
      },
      "source": [
        "# 1. Abstraction"
      ]
    },
    {
      "cell_type": "markdown",
      "metadata": {
        "id": "KRNRrYJDVls1"
      },
      "source": [
        "Tìm k lớn nhất sao cho có ít nhất k phần tử trong dãy lớn hơn hoặc bằng k."
      ]
    },
    {
      "cell_type": "markdown",
      "metadata": {
        "id": "KCNhe5puV5qS"
      },
      "source": [
        "# 2. Pattern Recognition"
      ]
    },
    {
      "cell_type": "markdown",
      "metadata": {
        "id": "HWlYTBMqWCZ-"
      },
      "source": [
        "K giảm dần từ n. Chọn k nếu số phần tử lớn hơn hoặc bằng k lớn hơn hoặc bằng k "
      ]
    },
    {
      "cell_type": "markdown",
      "metadata": {
        "id": "ALn-iinnXpUq"
      },
      "source": [
        "#3. Algorithm designed"
      ]
    },
    {
      "cell_type": "markdown",
      "metadata": {
        "id": "hLDP-5AFXsUw"
      },
      "source": [
        "a. Dãy đã sắp xếp tăng dần.\n",
        "\n",
        "  Sắp xếp dãy ban đầu thành dãy tăng dần.\n",
        "\n",
        "  Khởi tạo k =n (n là số phần tử của dãy).\n",
        "\n",
        "  Cho vòng lặp chạy từ 0 tới n.\n",
        "\n",
        "  K giảm dần nếu phần tử < k.\n",
        "\n",
        "  K là kết quả cần tìm.\n",
        "   \n",
        "   For i=0 to i=n:\n",
        "\n",
        "    IF a[i]<k THEN:\n",
        "\n",
        "      DECLARE k=k-1\n",
        "\n",
        "    i=i-1\n",
        "\n",
        "b. Dãy chưa sắp xếp.\n",
        "\n",
        "  Dùng binary seach:\n",
        "\n",
        "  (lo,hi) là khoảng chứa k cần tìm.\n",
        "\n",
        "  mid là vị trí k cần tìm.\n",
        "\n",
        "  Khởi tạo lo=-1, hi=n+1, mid=(hi+lo)/2.\n",
        "\n",
        "  sum=0(sum là tổng các phần tử)\n",
        "  \n",
        "while (hi>=lo):\n",
        "\n",
        "    DECLARE sum=0\n",
        "\n",
        "    for j=0 to j=n:\n",
        "\n",
        "        IF (a[j]>=mid) THEN:\n",
        "\n",
        "             DECLARE sum=sum+1\n",
        "\n",
        "    IF sum>mid THEN :\n",
        "\n",
        "         DECLARE lo=mid+1\n",
        "\n",
        "    ELSE IF sum==mid THEN:\n",
        "\n",
        "        break\n",
        "\n",
        "    ELSE :\n",
        "\n",
        "        DECLARE hi=mid-1\n",
        "\n",
        "     DECLARE mid=int((hi+lo)/2)\n",
        "\n",
        "\n",
        "\n",
        "\n",
        "\n",
        "\n",
        "\n",
        "\n",
        "\n"
      ]
    },
    {
      "cell_type": "markdown",
      "metadata": {
        "id": "mM_g6-8oXs20"
      },
      "source": [
        "# 4. Đánh giá độ phức tạp thuật toán"
      ]
    },
    {
      "cell_type": "markdown",
      "metadata": {
        "id": "grJ6Y0DeX0Qo"
      },
      "source": [
        "Dãy đã sắp xếp tăng dần: O(n).\n",
        "\n",
        "Dãy chưa sắp xếp tăng dần: O($n^2$)"
      ]
    },
    {
      "cell_type": "markdown",
      "metadata": {
        "id": "M4ARfwcRX0lR"
      },
      "source": [
        "# 5. Programming"
      ]
    },
    {
      "cell_type": "markdown",
      "metadata": {
        "id": "35zL97x9X6II"
      },
      "source": [
        "a. Dãy đã sắp xếp.\n",
        "\n",
        "  n = int(input())\n",
        "\n",
        "  a = list(map(int, input().split()))\n",
        "\n",
        "  a=sorted(a)\n",
        "\n",
        "  k=n\n",
        "\n",
        "  for i in range(0,n):\n",
        "\n",
        "    if a[i] < k:\n",
        "\n",
        "        k-=1\n",
        "\n",
        "  print(k)\n",
        "\n",
        "b. Dãy chưa sắp xếp.\n",
        "\n",
        "  n = int(input())\n",
        "\n",
        "  a = list(map(int, input().split()))\n",
        "\n",
        "  lo=-1\n",
        "\n",
        "  hi=n+1\n",
        "\n",
        "  mid=(hi+lo)//2\n",
        "\n",
        "  while (hi>=lo):\n",
        "\n",
        "    sum=0\n",
        "\n",
        "    for j in range(0,n,1):\n",
        "\n",
        "        if(a[j]>=mid):\n",
        "\n",
        "            sum=sum+1\n",
        "\n",
        "        if sum>mid:\n",
        "\n",
        "            break\n",
        "\n",
        "    if sum>mid:\n",
        "\n",
        "        lo=mid+1\n",
        "\n",
        "    elif sum==mid:\n",
        "\n",
        "        break\n",
        "\n",
        "    elif sum<mid:\n",
        "\n",
        "        hi=mid-1\n",
        "\n",
        "    mid=(hi+lo)//2\n",
        "    \n",
        "  print (mid)"
      ]
    }
  ]
}