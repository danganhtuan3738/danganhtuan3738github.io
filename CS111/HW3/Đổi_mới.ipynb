{
  "nbformat": 4,
  "nbformat_minor": 0,
  "metadata": {
    "colab": {
      "name": "Đổi_mới.ipynb",
      "provenance": [],
      "collapsed_sections": [],
      "authorship_tag": "ABX9TyM6zrGFCosmd73h9KQu72S0",
      "include_colab_link": true
    },
    "kernelspec": {
      "name": "python3",
      "display_name": "Python 3"
    },
    "language_info": {
      "name": "python"
    }
  },
  "cells": [
    {
      "cell_type": "markdown",
      "metadata": {
        "id": "view-in-github",
        "colab_type": "text"
      },
      "source": [
        "<a href=\"https://colab.research.google.com/github/danganhtuan3738/danganhtuan3738github.io/blob/main/CS111/HW3/%C4%90%E1%BB%95i_m%E1%BB%9Bi.ipynb\" target=\"_parent\"><img src=\"https://colab.research.google.com/assets/colab-badge.svg\" alt=\"Open In Colab\"/></a>"
      ]
    },
    {
      "cell_type": "code",
      "metadata": {
        "id": "65FhqNlTZ9tO",
        "colab": {
          "base_uri": "https://localhost:8080/"
        },
        "outputId": "4bfe0aa7-f67a-4de5-ecdc-3da887756c05"
      },
      "source": [
        "A=[]\n",
        "A = list(map(int, input().split()))\n",
        "temp=A[0]+A[2]\n",
        "s=A[4]/(temp-(A[0]/A[1]+A[2] /A[3]))\n",
        "s=int(s)\n",
        "while(A[4]-s*temp+(s//A[1] *A[0]+s//A[3] *A[2])<=0):\n",
        "   s=s-1\n",
        "while(A[4]-s*temp+(s//A[1] *A[0]+s//A[3] *A[2])>0):\n",
        "   s=s+1\n",
        "print(s)"
      ],
      "execution_count": null,
      "outputs": [
        {
          "output_type": "stream",
          "text": [
            "0.2727272727272727\n"
          ],
          "name": "stdout"
        }
      ]
    }
  ]
}