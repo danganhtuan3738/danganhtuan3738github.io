{
  "nbformat": 4,
  "nbformat_minor": 0,
  "metadata": {
    "colab": {
      "name": "songuyenmoi.ipynb",
      "provenance": [],
      "collapsed_sections": [],
      "authorship_tag": "ABX9TyOCZSRpM/8D3Kf2X1KQ6jWB",
      "include_colab_link": true
    },
    "kernelspec": {
      "name": "python3",
      "display_name": "Python 3"
    },
    "language_info": {
      "name": "python"
    }
  },
  "cells": [
    {
      "cell_type": "markdown",
      "metadata": {
        "id": "view-in-github",
        "colab_type": "text"
      },
      "source": [
        "<a href=\"https://colab.research.google.com/github/danganhtuan3738/danganhtuan3738github.io/blob/main/CS111/HW3/songuyenmoi.ipynb\" target=\"_parent\"><img src=\"https://colab.research.google.com/assets/colab-badge.svg\" alt=\"Open In Colab\"/></a>"
      ]
    },
    {
      "cell_type": "code",
      "metadata": {
        "colab": {
          "base_uri": "https://localhost:8080/"
        },
        "id": "0fZaq91kHuFC",
        "outputId": "6a30ff0e-ba8a-44aa-fdb4-901916ac8f13"
      },
      "source": [
        "s=input()\n",
        "sum=0\n",
        "t=0\n",
        "c=0\n",
        "for i in range(0,len(s)):\n",
        "  if(int(s[i])%3!=0):\n",
        "    sum=sum+int(s[i])\n",
        "  if(s[i]!='9'and c==0):\n",
        "     t=i\n",
        "     c=c+1\n",
        "r=sum%3\n",
        "i=int(s[t])\n",
        "k='t'\n",
        "if (r==0):\n",
        "  while(9-i<3):\n",
        "    t=t+1\n",
        "    i=int(s[t])  \n",
        "  k =str(i+(9-i)//3 *3)\n",
        "else:\n",
        "  temp=0\n",
        "  i=0\n",
        "  if (r==1):\n",
        "    while(s[t]=='8'):\n",
        "      t=t+1\n",
        "    i=int(s[t])  \n",
        "    temp=i+2\n",
        "  if (r==2):\n",
        "    i=int(s[t]) \n",
        "    temp=i+1\n",
        "  k=str(temp+(9-temp) //3 *3) \n",
        "print(s[0:t]+k+s[t+1:len(s)])"
      ],
      "execution_count": null,
      "outputs": [
        {
          "output_type": "stream",
          "text": [
            "999\n",
            "999\n"
          ],
          "name": "stdout"
        }
      ]
    }
  ]
}