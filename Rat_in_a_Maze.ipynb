{
  "nbformat": 4,
  "nbformat_minor": 0,
  "metadata": {
    "colab": {
      "name": "Rat_in_a_Maze.ipynb",
      "provenance": [],
      "authorship_tag": "ABX9TyOr89q6FxuskcShkI5tsaeH",
      "include_colab_link": true
    },
    "kernelspec": {
      "name": "python3",
      "display_name": "Python 3"
    },
    "language_info": {
      "name": "python"
    }
  },
  "cells": [
    {
      "cell_type": "markdown",
      "metadata": {
        "id": "view-in-github",
        "colab_type": "text"
      },
      "source": [
        "<a href=\"https://colab.research.google.com/github/danganhtuan3738/danganhtuan3738github.io/blob/master/Rat_in_a_Maze.ipynb\" target=\"_parent\"><img src=\"https://colab.research.google.com/assets/colab-badge.svg\" alt=\"Open In Colab\"/></a>"
      ]
    },
    {
      "cell_type": "markdown",
      "metadata": {
        "id": "Sqz1TUTuWO1-"
      },
      "source": [
        "# Đề bài"
      ]
    },
    {
      "cell_type": "markdown",
      "metadata": {
        "id": "-YGlTRy4WTbC"
      },
      "source": [
        "Một Mê cung được cho dưới dạng N * N ma trận nhị phân của các khối trong đó \n",
        "\n",
        "khối nguồn là khối trên cùng bên trái, tức là mê cung [0] [0] và khối đích là \n",
        "\n",
        "khối dưới cùng bên phải, tức là mê cung [N-1] [N-1] . Một con chuột bắt đầu từ \n",
        "\n",
        "nguồn và phải đến đích. Con chuột chỉ có thể di chuyển theo hai hướng: tiến và xuống. \n",
        "\n",
        "\n",
        "Trong ma trận mê cung, 0 có nghĩa là khối là một ngõ cụt và 1 có nghĩa là khối có thể được sử dụng trong đường dẫn từ nguồn đến đích."
      ]
    },
    {
      "cell_type": "markdown",
      "metadata": {
        "id": "WGDyTR0sXBsC"
      },
      "source": [
        "# 1. Abstraction."
      ]
    },
    {
      "cell_type": "markdown",
      "metadata": {
        "id": "boB2VLEfXFQV"
      },
      "source": [
        "Tìm đường đi tới đích."
      ]
    },
    {
      "cell_type": "markdown",
      "metadata": {
        "id": "XLC47nyVXL8v"
      },
      "source": [
        "# 2. Pattern Recognition"
      ]
    },
    {
      "cell_type": "markdown",
      "metadata": {
        "id": "WDSTus0dXSDQ"
      },
      "source": [
        "- Duyệt mảng 2 chiều theo đường dẫn xem có tới cuối mảng hay không.\n",
        "\n",
        "- Nếu có in ra ma trận đường đi. \n"
      ]
    },
    {
      "cell_type": "markdown",
      "metadata": {
        "id": "Z5AoJ5v1XphF"
      },
      "source": [
        "# 3. Algorithm Design"
      ]
    },
    {
      "cell_type": "markdown",
      "metadata": {
        "id": "YTKDMn_3X2Jy"
      },
      "source": [
        "- Tạo ra ma trận kết quả khởi tạo bằng 0.\n",
        "\n",
        "- Tạo hàm lấy ma trận đầu vào, ma trận kết quả và vị trí đang xét.\n",
        "\n",
        "- Nếu vị trí không nằm trong ma trận, không hợp lệ thì trả về bước trước.\n",
        "\n",
        "- Đánh dấu vị trí là 1 ở ma trận đầu ra, kiểm tra nếu là đích thì in ma trận kết quả.\n",
        "\n",
        "- Gọi ví trí (i+1, j) và (i, j+1).\n",
        "\n",
        "- Gán vị trí ở ma trận đầu ra là 0."
      ]
    },
    {
      "cell_type": "markdown",
      "metadata": {
        "id": "8gPE0pI7Y0kH"
      },
      "source": [
        "# 4. Độ phức tạp của thuật toán"
      ]
    },
    {
      "cell_type": "markdown",
      "metadata": {
        "id": "wFmSiRghY9rw"
      },
      "source": [
        "a= $n^2$\n",
        "\n",
        "O($2^a$)"
      ]
    },
    {
      "cell_type": "markdown",
      "metadata": {
        "id": "sCTQBrzJaBC-"
      },
      "source": [
        "# 5. Programing"
      ]
    },
    {
      "cell_type": "code",
      "metadata": {
        "id": "E0UwtXwkaEwb"
      },
      "source": [
        "def printSolution( sol ):\n",
        "     \n",
        "    for i in sol:\n",
        "        for j in i:\n",
        "            print(str(j) + \" \", end =\"\")\n",
        "        print(\"\")\n",
        " \n",
        "#  check if x, y is valid\n",
        "# index for N * N Maze\n",
        "def isSafe( maze, x, y ):\n",
        "     \n",
        "    if x >= 0 and x < N and y >= 0 and y < N and maze[x][y] == 1:\n",
        "        return True\n",
        "     \n",
        "    return False\n",
        "# check and find the way to the destination\n",
        "def find_way(maze, x, y, sol):\n",
        "     \n",
        "    # if (x, y is goal) return True\n",
        "    if x == N - 1 and y == N - 1 and maze[x][y]== 1:\n",
        "        sol[x][y] = 1\n",
        "        return True\n",
        "         \n",
        "    # kiểm tra vị trí có hợp lệ ?\n",
        "    if isSafe(maze, x, y) == True:\n",
        "        # Đã xét rồi thì bỏ qua   \n",
        "        if sol[x][y] == 1:\n",
        "            return False\n",
        "           \n",
        "        # đánh dấu vị trí\n",
        "        sol[x][y] = 1\n",
        "         \n",
        "        # tiến 1 ô\n",
        "        if find_way(maze, x + 1, y, sol) == True:\n",
        "            return True\n",
        "             \n",
        "        # tiến không hợp lệ thì xuống 1 ô\n",
        "        if find_way(maze, x, y + 1, sol) == True:\n",
        "            return True\n",
        "           \n",
        "        # lùi không hợp lệ thì quay lại 1 ô\n",
        "        if find_way(maze, x - 1, y, sol) == True:\n",
        "            return True\n",
        "             \n",
        "        # lùi không hợp lệ thì lên 1 ô\n",
        "        if solveMazeUtil(maze, x, y - 1, sol) == True:\n",
        "            return True\n",
        "        sol[x][y] = 0\n",
        "        return False    \n",
        "\n",
        "def solve( maze ):\n",
        "     # khoi tao\n",
        "    sol = [ [ 0 for j in range(n) ] for i in range(4) ]\n",
        "     \n",
        "    if solveMazeUtil(maze, 0, 0, sol) == False:\n",
        "        print(\"Solution doesn't exist\");\n",
        "        return False\n",
        "     \n",
        "    printSolution(sol)\n",
        "    return True\n",
        "     \n",
        "\n",
        "              \n",
        "    solve(maze)"
      ],
      "execution_count": null,
      "outputs": []
    }
  ]
}