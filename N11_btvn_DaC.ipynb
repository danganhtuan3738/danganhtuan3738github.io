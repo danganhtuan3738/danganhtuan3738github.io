{
  "nbformat": 4,
  "nbformat_minor": 0,
  "metadata": {
    "colab": {
      "name": "N11_btvn_DaC.ipynb",
      "provenance": [],
      "authorship_tag": "ABX9TyPQOFfwEkQXNH+flDrr6tuq",
      "include_colab_link": true
    },
    "kernelspec": {
      "name": "python3",
      "display_name": "Python 3"
    },
    "language_info": {
      "name": "python"
    }
  },
  "cells": [
    {
      "cell_type": "markdown",
      "metadata": {
        "id": "view-in-github",
        "colab_type": "text"
      },
      "source": [
        "<a href=\"https://colab.research.google.com/github/danganhtuan3738/danganhtuan3738github.io/blob/master/N11_btvn_DaC.ipynb\" target=\"_parent\"><img src=\"https://colab.research.google.com/assets/colab-badge.svg\" alt=\"Open In Colab\"/></a>"
      ]
    },
    {
      "cell_type": "markdown",
      "metadata": {
        "id": "WAul8sHV8_93"
      },
      "source": [
        "# 1. Programing"
      ]
    },
    {
      "cell_type": "code",
      "metadata": {
        "id": "40zq0dXa9Fnh"
      },
      "source": [
        "def find_index(a,l,r):\n",
        "  if r-l==0:\n",
        "   return l\n",
        "  elif r-l==1:\n",
        "    if a[l]<a[r]: \n",
        "        return r \n",
        "    else: \n",
        "        return l\n",
        "  else:\n",
        "    mid=(l+r)//2\n",
        "    x=find_index(a,l,mid)#chia mang ben trai\n",
        "    y=find_index(a,mid,r)#chia mang ben phai\n",
        "    if a[x]>=a[y]:\n",
        "        return x \n",
        "    else:\n",
        "        return y\n",
        "    \n",
        "\n",
        "n=int(input())\n",
        "a=[None]*(n+1)\n",
        "for i in range(0,n):\n",
        "    a[i]=int(input())\n",
        "print('vi tri co ptu lon nhat la: ',find_index(a,0,n-1))  #vi tri bat dau tu 0"
      ],
      "execution_count": null,
      "outputs": []
    },
    {
      "cell_type": "markdown",
      "metadata": {
        "id": "DLL4fUPiFsOI"
      },
      "source": [
        "# 2. Recurence relation\n"
      ]
    },
    {
      "cell_type": "markdown",
      "metadata": {
        "id": "k2hwwZ1eF4XT"
      },
      "source": [
        "T(n)=2T(n/2)+n\n",
        "\n",
        "O(n)=nlog(n)"
      ]
    },
    {
      "cell_type": "markdown",
      "metadata": {
        "id": "ZLckz74NGc_V"
      },
      "source": [
        "# 3. So sánh với Brute Force"
      ]
    },
    {
      "cell_type": "markdown",
      "metadata": {
        "id": "SHJ_eFeiGlSY"
      },
      "source": [
        "\n",
        "\n",
        "*   Ưu điểm:\n",
        "  Nhanh hơn.\n",
        "*   Nhược điểm:\n",
        "  Tốn bộ nhớ hơn.\n",
        "\n"
      ]
    }
  ]
}