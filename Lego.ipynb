{
  "nbformat": 4,
  "nbformat_minor": 0,
  "metadata": {
    "colab": {
      "name": "Lego.ipynb",
      "provenance": [],
      "authorship_tag": "ABX9TyOvxYVsSQkctG7YxOH2nPzy",
      "include_colab_link": true
    },
    "kernelspec": {
      "name": "python3",
      "display_name": "Python 3"
    },
    "language_info": {
      "name": "python"
    }
  },
  "cells": [
    {
      "cell_type": "markdown",
      "metadata": {
        "id": "view-in-github",
        "colab_type": "text"
      },
      "source": [
        "<a href=\"https://colab.research.google.com/github/danganhtuan3738/danganhtuan3738github.io/blob/main/Lego.ipynb\" target=\"_parent\"><img src=\"https://colab.research.google.com/assets/colab-badge.svg\" alt=\"Open In Colab\"/></a>"
      ]
    },
    {
      "cell_type": "code",
      "metadata": {
        "colab": {
          "base_uri": "https://localhost:8080/"
        },
        "id": "lEJmSgaWZRqa",
        "outputId": "9f605013-dd27-47f1-bbeb-a15dfca5220a"
      },
      "source": [
        "\n",
        "\n",
        "MOD = 1000000007\n",
        "\n",
        "\n",
        "def raw_power(base, n):\n",
        "    if n <= 2:\n",
        "        return (base ** n) % MOD\n",
        "    else:\n",
        "        result = (power(base, n // 2) ** 2)\n",
        "        if n % 2 == 1:\n",
        "            result = (result * base)\n",
        "        return result % MOD\n",
        "    \n",
        "memoize = {}\n",
        "def power(base, n):    \n",
        "    if  (memoize not in (base,n)):\n",
        "        memoize[(base, n)] = raw_power(base, n)\n",
        "    return memoize[(base, n)]\n",
        "    \n",
        "T = int(input())\n",
        "for t in range(0, T):\n",
        "    [N, M] = input().split()\n",
        "    N = int(N)\n",
        "    M = int(M)\n",
        "    f = [0 for x in range(0, M+1)]\n",
        "    A = [0 for x in range(0, M+1)]\n",
        "    P = [0 for x in range(0, M+1)]\n",
        "    f[0] = 1\n",
        "    for i in range(1, M+1):\n",
        "      for j in range(1,5):\n",
        "        if (i-j>=0):\n",
        "            f[i] = f[i] + f[i-j];\n",
        "        A[i] = power(f[i], N)\n",
        "    P[1] = 1\n",
        "    for i in range (1, M+1):\n",
        "        P[i] = A[i] \n",
        "        temp = 0\n",
        "        for j in range(1, i):            \n",
        "            temp = temp +( P[j] * A[i-j]) % MOD\n",
        "        P[i] = (P[i] - temp) % MOD\n",
        "        \n",
        "    print (P[M])"
      ],
      "execution_count": null,
      "outputs": [
        {
          "output_type": "stream",
          "text": [
            "1\n",
            "7  7\n",
            "827714651\n"
          ],
          "name": "stdout"
        }
      ]
    },
    {
      "cell_type": "code",
      "metadata": {
        "colab": {
          "base_uri": "https://localhost:8080/"
        },
        "id": "BoyAn6VYvcGS",
        "outputId": "b4526024-5197-4c9f-c836-6b01bc991c83"
      },
      "source": [
        "MOD = int(1e9+7)\n",
        "T = int(input())\n",
        "for t in range(0,T):\n",
        "    N, M = map(int, input().split())\n",
        "    ways = [0]*(M+4)\n",
        "    ways[0] = 1\n",
        "    for i in range(0,M):\n",
        "        for j in range(1,5):\n",
        "            ways[i+j] = (ways[i+j] + ways[i]) % MOD\n",
        "    res = [0]*(M+1)\n",
        "    resbad = [0]*(M+1)\n",
        "    resgood = [0]*(M+1)\n",
        "    resgood[1] = 1\n",
        "    resbad[1] = 0\n",
        "    res[1] = 1\n",
        "    for i in range(2, M+1):\n",
        "        res[i] = pow(ways[i], N, MOD)\n",
        "        for j in range(1, i):\n",
        "            resbad[i] += (resgood[j]*res[i-j]) % MOD\n",
        "        resgood[i] = (res[i] - resbad[i]%MOD + MOD) % MOD\n",
        "    print (resgood[M])"
      ],
      "execution_count": null,
      "outputs": [
        {
          "output_type": "stream",
          "text": [
            "1\n",
            "7 7\n",
            "827714651\n"
          ],
          "name": "stdout"
        }
      ]
    }
  ]
}