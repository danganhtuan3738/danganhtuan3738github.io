{
  "nbformat": 4,
  "nbformat_minor": 0,
  "metadata": {
    "colab": {
      "name": "N11.ipynb",
      "provenance": [],
      "collapsed_sections": [],
      "mount_file_id": "1PuyexiieJ41XXoaQZmQceKq9y7EGPTo9",
      "authorship_tag": "ABX9TyPnnOIRLns9aNFpf05ne7Hd",
      "include_colab_link": true
    },
    "kernelspec": {
      "name": "python3",
      "display_name": "Python 3"
    },
    "language_info": {
      "name": "python"
    }
  },
  "cells": [
    {
      "cell_type": "markdown",
      "metadata": {
        "id": "view-in-github",
        "colab_type": "text"
      },
      "source": [
        "<a href=\"https://colab.research.google.com/github/danganhtuan3738/danganhtuan3738github.io/blob/master/N11.ipynb\" target=\"_parent\"><img src=\"https://colab.research.google.com/assets/colab-badge.svg\" alt=\"Open In Colab\"/></a>"
      ]
    },
    {
      "cell_type": "code",
      "metadata": {
        "colab": {
          "base_uri": "https://localhost:8080/"
        },
        "id": "njO5WJArcslp",
        "outputId": "1606c51e-1d1e-4c57-94c6-cc35354e7ce1"
      },
      "source": [
        "from collections import defaultdict\n",
        "\n",
        "\n",
        "#find way\n",
        "def ways():\n",
        "    visited = [] # point ver \n",
        "    count = 0\n",
        "    queue = [(0, -1, a)] # have way\n",
        "    while queue:\n",
        "        consumed, pre, ver = queue.pop(0)\n",
        "        if consumed == k and ver == b:\n",
        "            count += 1\n",
        "            continue\n",
        "        elif consumed > k or (ver == b and consumed != k):\n",
        "            continue\n",
        "        else:\n",
        "            for weigh, nextver in graph[ver]:\n",
        "                if (pre, ver, next) not in visited:\n",
        "                    queue.append((weigh + consumed, ver, nextver))\n",
        "                    visited.append((pre, ver, nextver))\n",
        "                    \n",
        "    if (count > 0):\n",
        "        return count \n",
        "    else:\n",
        "       return  -1\n",
        "#input \n",
        "n, m = map(int, input().split())\n",
        "graph = defaultdict(list)\n",
        "for i in range (m):\n",
        "  u, v, w = map(int, input().split())\n",
        "  graph[u].append((w,v))\n",
        "  graph[v].append((w,u))\n",
        "\n",
        "a, b, k = map(int, input().split())\n",
        "print(ways())\n"
      ],
      "execution_count": null,
      "outputs": [
        {
          "output_type": "stream",
          "text": [
            "2 3\n",
            "0 1 4\n",
            "2 1 3\n",
            "2 0 1\n",
            "0 1 4\n",
            "2\n"
          ],
          "name": "stdout"
        }
      ]
    }
  ]
}