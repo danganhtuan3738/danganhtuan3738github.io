{
  "nbformat": 4,
  "nbformat_minor": 0,
  "metadata": {
    "colab": {
      "name": "danh bai",
      "provenance": [],
      "collapsed_sections": [],
      "toc_visible": true,
      "include_colab_link": true
    },
    "kernelspec": {
      "display_name": "Python 3",
      "name": "python3"
    }
  },
  "cells": [
    {
      "cell_type": "markdown",
      "metadata": {
        "id": "view-in-github",
        "colab_type": "text"
      },
      "source": [
        "<a href=\"https://colab.research.google.com/github/danganhtuan3738/danganhtuan3738github.io/blob/master/danh_bai.ipynb\" target=\"_parent\"><img src=\"https://colab.research.google.com/assets/colab-badge.svg\" alt=\"Open In Colab\"/></a>"
      ]
    },
    {
      "cell_type": "code",
      "metadata": {
        "colab": {
          "base_uri": "https://localhost:8080/"
        },
        "id": "1-pkuMQ7H1sz",
        "outputId": "518be321-e46d-43e0-e90b-38234c3a19eb"
      },
      "source": [
        "def doichat(n):\n",
        "    if n=='B':\n",
        "        return '1'\n",
        "    if n=='N':\n",
        "        return '2'\n",
        "    if n=='R':\n",
        "        return '3'\n",
        "    if n=='C':\n",
        "        return '4'\n",
        "def doicon(n):\n",
        "    if n=='T':\n",
        "        return '10'\n",
        "    if n=='J':\n",
        "        return '11'\n",
        "    if n=='Q':\n",
        "        return '12'\n",
        "    if n=='K':\n",
        "        return '13'\n",
        "    if n=='A':\n",
        "        return '14'\n",
        "    return n\n",
        "\n",
        "\n",
        "       \n",
        "def input_compare(n):\n",
        "    adam = [None]*(n+1)\n",
        "    for i in range(0,n):\n",
        "        x=input()\n",
        "        adam[i]=int(doicon(x[0])+doichat(x[1]))\n",
        "    eva = [None]*(n+1)\n",
        "    sum=0\n",
        "    for i in range(0,n):\n",
        "        x=input()\n",
        "        eva[i]=int(doicon(x[0])+doichat(x[1]))\n",
        "        if adam[i]<eva[i]:\n",
        "            sum+=1\n",
        "    return sum\n",
        "n=int(input())\n",
        "test=[None]*(n+1)\n",
        "for i in range(0,n):\n",
        "  test[i]=int(input())\n",
        "  test[i]=input_compare(test[i])\n",
        "print(test)\n"
      ],
      "execution_count": null,
      "outputs": [
        {
          "output_type": "stream",
          "text": [
            "2\n",
            "1\n",
            "2R\n",
            "3B\n",
            "2\n",
            "6C\n",
            "4R\n",
            "AR\n",
            "AC\n",
            "[1, 2, None]\n"
          ],
          "name": "stdout"
        }
      ]
    },
    {
      "cell_type": "code",
      "metadata": {
        "colab": {
          "base_uri": "https://localhost:8080/"
        },
        "id": "Xv9pTJUWTkL3",
        "outputId": "dacb29dd-623f-4533-df4e-5ebb16b4e116"
      },
      "source": [
        "from google.colab import drive\n",
        "drive.mount('/content/drive')\n",
        "drive.mount(\"/content/drive\", force_remount=True)"
      ],
      "execution_count": null,
      "outputs": [
        {
          "output_type": "stream",
          "text": [
            "Drive already mounted at /content/drive; to attempt to forcibly remount, call drive.mount(\"/content/drive\", force_remount=True).\n",
            "Mounted at /content/drive\n"
          ],
          "name": "stdout"
        }
      ]
    },
    {
      "cell_type": "code",
      "metadata": {
        "colab": {
          "base_uri": "https://localhost:8080/"
        },
        "id": "i2nHvjXAT5O7",
        "outputId": "16645648-0bb4-4c49-e95a-f1da477d7eb8"
      },
      "source": [
        "from google.colab import drive\n",
        "drive.mount('/content/drive')"
      ],
      "execution_count": null,
      "outputs": [
        {
          "output_type": "stream",
          "text": [
            "Drive already mounted at /content/drive; to attempt to forcibly remount, call drive.mount(\"/content/drive\", force_remount=True).\n"
          ],
          "name": "stdout"
        }
      ]
    }
  ]
}